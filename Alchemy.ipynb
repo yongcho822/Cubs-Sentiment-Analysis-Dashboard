{
 "cells": [
  {
   "cell_type": "code",
   "execution_count": 66,
   "metadata": {
    "collapsed": true
   },
   "outputs": [],
   "source": [
    "import os, sys, string, time, re\n",
    "import requests, json, urllib, urllib2, base64\n",
    "import pymongo\n",
    "import pandas as pd\n",
    "from sklearn.metrics import accuracy_score\n",
    "from multiprocessing import Pool, Lock, Queue, Manager"
   ]
  },
  {
   "cell_type": "code",
   "execution_count": 11,
   "metadata": {
    "collapsed": false
   },
   "outputs": [],
   "source": [
    "df_100 = pd.read_csv(\"df_100.csv\")\n",
    "tweetcollection = list(df_100['text'])"
   ]
  },
  {
   "cell_type": "code",
   "execution_count": 16,
   "metadata": {
    "collapsed": false
   },
   "outputs": [],
   "source": [
    "#need a list of dictionaries like [{text:aodijgaodsigma},{text:oaidmgoaimdoa}]\n",
    "adict = []\n",
    "for i in tweetcollection:\n",
    "    adict.append({'text':i})"
   ]
  },
  {
   "cell_type": "code",
   "execution_count": 19,
   "metadata": {
    "collapsed": false
   },
   "outputs": [
    {
     "name": "stdout",
     "output_type": "stream",
     "text": [
      "RT @Cubs: .@kschwarb12 goes dead-center! Back-to-back blasts give the #Cubs a 4-1 lead in the 5th! #LetsGo\n"
     ]
    }
   ],
   "source": [
    "print adict[0]['text']"
   ]
  },
  {
   "cell_type": "code",
   "execution_count": 38,
   "metadata": {
    "collapsed": true
   },
   "outputs": [],
   "source": [
    "#lets bring in the preprocessed file too\n",
    "df_100_pp = pd.read_csv(\"df_100_pp.csv\")\n",
    "tweetcollection2 = list(df_100_pp['text'])\n",
    "adict2 = []\n",
    "for i in tweetcollection2:\n",
    "    adict2.append({'text':i})"
   ]
  },
  {
   "cell_type": "code",
   "execution_count": 70,
   "metadata": {
    "collapsed": true
   },
   "outputs": [],
   "source": [
    "def main():\n",
    "\n",
    "    # Establish credentials for Twitter and AlchemyAPI\n",
    "    credentials = get_credentials()\n",
    "\n",
    "    # Pull Tweets down from the Twitter API\n",
    "    raw_tweets = adict\n",
    "    \n",
    "    # Enrich the body of the Tweets using AlchemyAPI\n",
    "    enriched_tweets = enrich(credentials, raw_tweets)\n",
    "\n",
    "    # Store sentiment-analyzed data in MongoDB\n",
    "    store(enriched_tweets)\n",
    "    \n",
    "    # Print some interesting results to the screen\n",
    "    print_results()\n",
    "\n",
    "    return"
   ]
  },
  {
   "cell_type": "code",
   "execution_count": 71,
   "metadata": {
    "collapsed": true
   },
   "outputs": [],
   "source": [
    "def get_credentials():\n",
    "    creds = {}\n",
    "    creds['apikey'] = '14c53dfe439a2e3ff87e7750269a79630da88746'\n",
    "    return creds"
   ]
  },
  {
   "cell_type": "code",
   "execution_count": 72,
   "metadata": {
    "collapsed": true
   },
   "outputs": [],
   "source": [
    "def enrich(credentials, tweets, sentiment_target = ''):\n",
    "    # Prepare to make multiple asynchronous calls to AlchemyAPI\n",
    "    apikey = credentials['apikey']\n",
    "    pool = Pool(processes = 10)\n",
    "    mgr = Manager()\n",
    "    result_queue = mgr.Queue()\n",
    "    # Send each Tweet to the get_text_sentiment function\n",
    "    for tweet in tweets:\n",
    "        #what does sentiment_target do here? look up get_text_sentiment()\n",
    "        pool.apply_async(get_text_sentiment, (apikey, tweet, sentiment_target, result_queue))\n",
    "\n",
    "    pool.close()\n",
    "    pool.join()\n",
    "    collection = []\n",
    "    while not result_queue.empty():\n",
    "        collection += [result_queue.get()]\n",
    "    \n",
    "    print \"Enrichment complete! Enriched %d Tweets\" % len(collection)\n",
    "    return collection"
   ]
  },
  {
   "cell_type": "code",
   "execution_count": 73,
   "metadata": {
    "collapsed": true
   },
   "outputs": [],
   "source": [
    "def get_text_sentiment(apikey, tweet, target, output):\n",
    "\n",
    "    # Base AlchemyAPI URL for targeted sentiment call\n",
    "    alchemy_url = \"http://access.alchemyapi.com/calls/text/TextGetTextSentiment\"\n",
    "    \n",
    "    # Parameter list, containing the data to be enriched\n",
    "    parameters = {\n",
    "        \"apikey\" : apikey,\n",
    "        \"text\"   : tweet['text'],\n",
    "        \"outputMode\" : \"json\",\n",
    "        \"showSourceText\" : 1\n",
    "        }\n",
    "\n",
    "    try:\n",
    "\n",
    "        results = requests.get(url=alchemy_url, params=urllib.urlencode(parameters))\n",
    "        response = results.json()\n",
    "\n",
    "    except Exception as e:\n",
    "        print \"Error:\", e\n",
    "        return\n",
    "\n",
    "    try:\n",
    "#         if 'OK' != response['status'] or 'docSentiment' not in response:\n",
    "#             print \"Problem finding 'docSentiment' in HTTP response from AlchemyAPI\"\n",
    "#             print response\n",
    "#             print \"HTTP Status:\", results.status_code, results.reason\n",
    "#             print \"--\"\n",
    "#             return\n",
    "\n",
    "        tweet['sentiment'] = response['docSentiment']['type']\n",
    "        tweet['score'] = 0.\n",
    "        if tweet['sentiment'] in ('positive', 'negative'):\n",
    "            tweet['score'] = float(response['docSentiment']['score'])\n",
    "        output.put(tweet)\n",
    "\n",
    "    except Exception as e:\n",
    "        tweet['sentiment'] = 'neutral'\n",
    "        tweet['score'] = 0\n",
    "        output.put(tweet)\n",
    "        print \"Error:\", e\n",
    "        print \"Request:\", results.url\n",
    "        print \"Response:\", response\n",
    "\n",
    "    return"
   ]
  },
  {
   "cell_type": "code",
   "execution_count": 74,
   "metadata": {
    "collapsed": true
   },
   "outputs": [],
   "source": [
    "def store(tweets):\n",
    "    # Instantiate your MongoDB client\n",
    "    mongo_client = pymongo.MongoClient()\n",
    "    # Retrieve (or create, if it doesn't exist) the twitter_db database from Mongo\n",
    "    db = mongo_client.Alchemy\n",
    "   \n",
    "    db_tweets = db.ResultsRaw\n",
    "\n",
    "    for tweet in tweets:\n",
    "        db_id = db_tweets.insert(tweet)\n",
    " \n",
    "    db_count = db_tweets.count()\n",
    "    \n",
    "    print \"# of Sentiment-Analyzed Tweets stored in MongoDB: %d\" % db_count\n",
    "\n",
    "    return"
   ]
  },
  {
   "cell_type": "code",
   "execution_count": 75,
   "metadata": {
    "collapsed": true
   },
   "outputs": [],
   "source": [
    "def print_results():\n",
    "\n",
    "    print ''\n",
    "    print ''\n",
    "    print '###############'\n",
    "    print '#    Stats    #'\n",
    "    print '###############'\n",
    "    print ''\n",
    "    print ''    \n",
    "    \n",
    "    db = pymongo.MongoClient().Alchemy\n",
    "    tweets = db.ResultsRaw\n",
    "\n",
    "    num_positive_tweets = tweets.find({\"sentiment\" : \"positive\"}).count()\n",
    "    num_negative_tweets = tweets.find({\"sentiment\" : \"negative\"}).count()\n",
    "    num_neutral_tweets = tweets.find({\"sentiment\" : \"neutral\"}).count()\n",
    "    num_tweets = tweets.find().count()\n",
    "\n",
    "    if num_tweets != sum((num_positive_tweets, num_negative_tweets, num_neutral_tweets)):\n",
    "        print \"Counting problem!\"\n",
    "        print \"Number of tweets (%d) doesn't add up (%d, %d, %d)\" % (num_tweets, \n",
    "                                                                     num_positive_tweets, \n",
    "                                                                     num_negative_tweets, \n",
    "                                                                     num_neutral_tweets)\n",
    "        sys.exit()\n",
    "\n",
    "    most_positive_tweet = tweets.find_one({\"sentiment\" : \"positive\"}, sort=[(\"score\", -1)])\n",
    "    most_negative_tweet = tweets.find_one({\"sentiment\" : \"negative\"}, sort=[(\"score\", 1)])\n",
    "\n",
    "    mean_results = tweets.aggregate([{\"$group\" : {\"_id\": \"$sentiment\", \"avgScore\" : { \"$avg\" : \"$score\"}}}])\n",
    "\n",
    "#     avg_pos_score = mean_results['result'][2]['avgScore'] \n",
    "#     avg_neg_score = mean_results['result'][1]['avgScore'] \n",
    "    \n",
    "    print \"SENTIMENT BREAKDOWN\"\n",
    "    print \"Number (%%) of positive tweets: %d (%.2f%%)\" % (num_positive_tweets, 100*float(num_positive_tweets) / num_tweets)\n",
    "    print \"Number (%%) of negative tweets: %d (%.2f%%)\" % (num_negative_tweets, 100*float(num_negative_tweets) / num_tweets)\n",
    "    print \"Number (%%) of neutral tweets: %d (%.2f%%)\" % (num_neutral_tweets, 100*float(num_neutral_tweets) / num_tweets)\n",
    "    print \"\"\n",
    "\n",
    "#     print \"AVERAGE POSITIVE TWEET SCORE: %f\" % float(avg_pos_score)\n",
    "#     print \"AVERAGE NEGATIVE TWEET SCORE: %f\" % float(avg_neg_score)\n",
    "#     print \"\"\n",
    "\n",
    "    print \"MOST POSITIVE TWEET\"\n",
    "    print \"Text: %s\" % most_positive_tweet['text']\n",
    "#     print \"User: %s\" % most_positive_tweet['screen_name']\n",
    "#     print \"Time: %s\" % most_positive_tweet['time']\n",
    "    print \"Score: %f\" % float(most_positive_tweet['score'])\n",
    "    print \"\"\n",
    "\n",
    "    print \"MOST NEGATIVE TWEET\"\n",
    "    print \"Text: %s\" % most_negative_tweet['text']\n",
    "#     print \"User: %s\" % most_negative_tweet['screen_name']\n",
    "#     print \"Time: %s\" % most_negative_tweet['time']\n",
    "    print \"Score: %f\" % float(most_negative_tweet['score'])\n",
    "    return\n"
   ]
  },
  {
   "cell_type": "code",
   "execution_count": 76,
   "metadata": {
    "collapsed": false
   },
   "outputs": [
    {
     "name": "stdout",
     "output_type": "stream",
     "text": [
      "Enrichment complete! Enriched 100 Tweets\n",
      "# of Sentiment-Analyzed Tweets stored in MongoDB: 100Error: 'docSentiment'\n",
      "Error: 'docSentiment'\n",
      "Error: 'docSentiment'\n",
      "Error: 'docSentiment'\n",
      "Error: 'docSentiment'\n",
      "Error: 'docSentiment'\n",
      "Request: http://access.alchemyapi.com/calls/text/TextGetTextSentiment?text=RT+%40MLB%3A+%23FireEmoji++https%3A%2F%2Ft.co%2FZN7FshqMkp&apikey=14c53dfe439a2e3ff87e7750269a79630da88746&outputMode=json&showSourceText=1\n",
      "Request: http://access.alchemyapi.com/calls/text/TextGetTextSentiment?text=%23cubs+http%3A%2F%2Ft.co%2FQOtoWxPTRi&apikey=14c53dfe439a2e3ff87e7750269a79630da88746&outputMode=json&showSourceText=1\n",
      "Request: http://access.alchemyapi.com/calls/text/TextGetTextSentiment?text=%40Cubs+%F0%9F%94%A5%F0%9F%94%A5%F0%9F%94%A5%F0%9F%94%A5%F0%9F%91%8C%F0%9F%91%8C%F0%9F%91%8C%F0%9F%91%8C%F0%9F%91%8D&apikey=14c53dfe439a2e3ff87e7750269a79630da88746&outputMode=json&showSourceText=1\n",
      "Request: http://access.alchemyapi.com/calls/text/TextGetTextSentiment?text=RT+%405kl%3A+%40Cubs+%40kschwarb12+http%3A%2F%2Ft.co%2FG28mMyamlC&apikey=14c53dfe439a2e3ff87e7750269a79630da88746&outputMode=json&showSourceText=1\n",
      "Request: http://access.alchemyapi.com/calls/text/TextGetTextSentiment?text=RT+%405kl%3A+%40Cubs+%40kschwarb12+http%3A%2F%2Ft.co%2FG28mMyamlC&apikey=14c53dfe439a2e3ff87e7750269a79630da88746&outputMode=json&showSourceText=1\n",
      "Request: http://access.alchemyapi.com/calls/text/TextGetTextSentiment?text=Wow.++https%3A%2F%2Ft.co%2FPJoXp6b7bJ&apikey=14c53dfe439a2e3ff87e7750269a79630da88746&outputMode=json&showSourceText=1\n",
      "Response: {u'status': u'ERROR', u'totalTransactions': u'1', u'language': u'czech', u'text': u'RT @MLB: #FireEmoji  https://t.co/ZN7FshqMkp', u'statusInfo': u'unsupported-text-language', u'usage': u'By accessing AlchemyAPI or using information generated by AlchemyAPI, you are agreeing to be bound by the AlchemyAPI Terms of Use: http://www.alchemyapi.com/company/terms.html'}\n",
      "Response: {u'status': u'ERROR', u'totalTransactions': u'1', u'language': u'unknown', u'text': u'#cubs http://t.co/QOtoWxPTRi', u'statusInfo': u'unsupported-text-language', u'usage': u'By accessing AlchemyAPI or using information generated by AlchemyAPI, you are agreeing to be bound by the AlchemyAPI Terms of Use: http://www.alchemyapi.com/company/terms.html'}\n",
      "Response: {u'status': u'ERROR', u'totalTransactions': u'1', u'language': u'unknown', u'text': u'@Cubs \\x01F525\\x01F525\\x01F525\\x01F525\\x01F44C\\x01F44C\\x01F44C\\x01F44C\\x01F44D', u'statusInfo': u'unsupported-text-language', u'usage': u'By accessing AlchemyAPI or using information generated by AlchemyAPI, you are agreeing to be bound by the AlchemyAPI Terms of Use: http://www.alchemyapi.com/company/terms.html'}\n",
      "Response: {u'status': u'ERROR', u'totalTransactions': u'1', u'language': u'unknown', u'text': u'RT @5kl: @Cubs @kschwarb12 http://t.co/G28mMyamlC', u'statusInfo': u'unsupported-text-language', u'usage': u'By accessing AlchemyAPI or using information generated by AlchemyAPI, you are agreeing to be bound by the AlchemyAPI Terms of Use: http://www.alchemyapi.com/company/terms.html'}\n",
      "Response: {u'status': u'ERROR', u'totalTransactions': u'1', u'language': u'unknown', u'text': u'RT @5kl: @Cubs @kschwarb12 http://t.co/G28mMyamlC', u'statusInfo': u'unsupported-text-language', u'usage': u'By accessing AlchemyAPI or using information generated by AlchemyAPI, you are agreeing to be bound by the AlchemyAPI Terms of Use: http://www.alchemyapi.com/company/terms.html'}\n",
      "Response: {u'status': u'ERROR', u'totalTransactions': u'1', u'language': u'serbian', u'text': u'Wow.  https://t.co/PJoXp6b7bJ', u'statusInfo': u'unsupported-text-language', u'usage': u'By accessing AlchemyAPI or using information generated by AlchemyAPI, you are agreeing to be bound by the AlchemyAPI Terms of Use: http://www.alchemyapi.com/company/terms.html'}\n",
      "Error: 'docSentiment'\n",
      "Request: http://access.alchemyapi.com/calls/text/TextGetTextSentiment?text=RT+%405kl%3A+%40Cubs+%40kschwarb12+http%3A%2F%2Ft.co%2FG28mMyamlC&apikey=14c53dfe439a2e3ff87e7750269a79630da88746&outputMode=json&showSourceText=1\n",
      "Response: {u'status': u'ERROR', u'totalTransactions': u'1', u'language': u'unknown', u'text': u'RT @5kl: @Cubs @kschwarb12 http://t.co/G28mMyamlC', u'statusInfo': u'unsupported-text-language', u'usage': u'By accessing AlchemyAPI or using information generated by AlchemyAPI, you are agreeing to be bound by the AlchemyAPI Terms of Use: http://www.alchemyapi.com/company/terms.html'}\n",
      "\n",
      "\n",
      "\n",
      "###############\n",
      "#    Stats    #\n",
      "###############\n",
      "\n",
      "\n",
      "SENTIMENT BREAKDOWN\n",
      "Number (%) of positive tweets: 54 (54.00%)\n",
      "Number (%) of negative tweets: 17 (17.00%)\n",
      "Number (%) of neutral tweets: 29 (29.00%)\n",
      "\n",
      "MOST POSITIVE TWEET\n",
      "Text: #Cubs Win Cubs Win Cubs Win http://t.co/8xV4LaIuT2\n",
      "Score: 0.839020\n",
      "\n",
      "MOST NEGATIVE TWEET\n",
      "Text: @davidaxelrod @DexterFowler @kschwarb12 @ARizzo44 @Cubs @JLester34 I hate the Cubs\n",
      "Score: -0.868787\n"
     ]
    }
   ],
   "source": [
    "main()"
   ]
  },
  {
   "cell_type": "code",
   "execution_count": 50,
   "metadata": {
    "collapsed": true
   },
   "outputs": [],
   "source": [
    "label_list = [1,1,1,1,1,1,1,1,0,1,0,0,0,1,1,1,1,1,1,-1,1,0,1,0,0,1,1,0,-1,1,0,0,-1,0,0,0,0,1,0,1,1,0,1,1,1,0,1,0,1,0,0,\n",
    "              1,1,1,1,0,1,1,0,1,0,0,1,1,1,1,1,0,1,1,0,1,0,1,1,0,1,-1,0,0,0,1,1,0,0,0,0,0,0,1,1,1,0,1,0,1,1,1,0,0]"
   ]
  },
  {
   "cell_type": "code",
   "execution_count": 64,
   "metadata": {
    "collapsed": true
   },
   "outputs": [],
   "source": [
    "#bring in the processed alchemy scores from MongoDB to Pandas\n",
    "\n",
    "alchemyscores = pymongo.MongoClient().Alchemy.Results\n",
    "cursor = alchemyscores.find()\n",
    "cubsDF = pd.DataFrame(list(cursor))    "
   ]
  },
  {
   "cell_type": "code",
   "execution_count": 65,
   "metadata": {
    "collapsed": true
   },
   "outputs": [
    {
     "name": "stdout",
     "output_type": "stream",
     "text": [
      "                         _id     score sentiment  \\\n",
      "0   55cea7fcb187a81013554edb  0.000000   neutral   \n",
      "1   55cea7fcb187a81013554edc  0.670829  positive   \n",
      "2   55cea7fcb187a81013554edd -0.261398  negative   \n",
      "3   55cea7fcb187a81013554ede  0.839020  positive   \n",
      "4   55cea7fcb187a81013554edf -0.315540  negative   \n",
      "5   55cea7fcb187a81013554ee0  0.261258  positive   \n",
      "6   55cea7fcb187a81013554ee1  0.000000   neutral   \n",
      "7   55cea7fcb187a81013554ee2  0.000000   neutral   \n",
      "8   55cea7fcb187a81013554ee3  0.000000   neutral   \n",
      "9   55cea7fcb187a81013554ee4  0.000000   neutral   \n",
      "10  55cea7fcb187a81013554ee5  0.000000   neutral   \n",
      "11  55cea7fcb187a81013554ee6  0.000000   neutral   \n",
      "12  55cea7fcb187a81013554ee7  0.261258  positive   \n",
      "13  55cea7fcb187a81013554ee8 -0.225455  negative   \n",
      "14  55cea7fcb187a81013554ee9 -0.341243  negative   \n",
      "15  55cea7fcb187a81013554eea -0.397927  negative   \n",
      "16  55cea7fcb187a81013554eeb  0.000000   neutral   \n",
      "17  55cea7fcb187a81013554eec  0.210043  positive   \n",
      "18  55cea7fcb187a81013554eed  0.000000   neutral   \n",
      "19  55cea7fcb187a81013554eee  0.000000   neutral   \n",
      "20  55cea7fcb187a81013554eef  0.000000   neutral   \n",
      "21  55cea7fcb187a81013554ef0  0.000000   neutral   \n",
      "22  55cea7fcb187a81013554ef1 -0.710663  negative   \n",
      "23  55cea7fcb187a81013554ef2  0.528830  positive   \n",
      "24  55cea7fcb187a81013554ef3  0.000000   neutral   \n",
      "25  55cea7fcb187a81013554ef4  0.000000   neutral   \n",
      "26  55cea7fcb187a81013554ef5  0.762476  positive   \n",
      "27  55cea7fcb187a81013554ef6 -0.863303  negative   \n",
      "28  55cea7fcb187a81013554ef7 -0.636534  negative   \n",
      "29  55cea7fcb187a81013554ef8  0.000000   neutral   \n",
      "..                       ...       ...       ...   \n",
      "70  55cea7fcb187a81013554f21  0.528830  positive   \n",
      "71  55cea7fcb187a81013554f22 -0.795417  negative   \n",
      "72  55cea7fcb187a81013554f23  0.000000   neutral   \n",
      "73  55cea7fcb187a81013554f24  0.000000   neutral   \n",
      "74  55cea7fcb187a81013554f25  0.000000   neutral   \n",
      "75  55cea7fcb187a81013554f26  0.686881  positive   \n",
      "76  55cea7fcb187a81013554f27  0.000000   neutral   \n",
      "77  55cea7fcb187a81013554f28 -0.828277  negative   \n",
      "78  55cea7fcb187a81013554f29  0.000000   neutral   \n",
      "79  55cea7fcb187a81013554f2a  0.578621  positive   \n",
      "80  55cea7fcb187a81013554f2b -0.207729  negative   \n",
      "81  55cea7fcb187a81013554f2c  0.000000   neutral   \n",
      "82  55cea7fcb187a81013554f2d  0.000000   neutral   \n",
      "83  55cea7fcb187a81013554f2e  0.000000   neutral   \n",
      "84  55cea7fcb187a81013554f2f  0.000000   neutral   \n",
      "85  55cea7fcb187a81013554f30  0.535686  positive   \n",
      "86  55cea7fcb187a81013554f31  0.000000   neutral   \n",
      "87  55cea7fcb187a81013554f32  0.000000   neutral   \n",
      "88  55cea7fcb187a81013554f33  0.000000   neutral   \n",
      "89  55cea7fcb187a81013554f34  0.000000   neutral   \n",
      "90  55cea7fcb187a81013554f35  0.000000   neutral   \n",
      "91  55cea7fcb187a81013554f36  0.000000   neutral   \n",
      "92  55cea7fcb187a81013554f37  0.000000   neutral   \n",
      "93  55cea7fcb187a81013554f38  0.000000   neutral   \n",
      "94  55cea7fcb187a81013554f39  0.373367  positive   \n",
      "95  55cea7fcb187a81013554f3a  0.265626  positive   \n",
      "96  55cea7fcb187a81013554f3b  0.000000   neutral   \n",
      "97  55cea7fcb187a81013554f3c  0.000000   neutral   \n",
      "98  55cea7fcb187a81013554f3d  0.261258  positive   \n",
      "99  55cea7fcb187a81013554f3e  0.201575  positive   \n",
      "\n",
      "                                                 text  pol_class  \n",
      "0                 end cubs news n't worry end account          0  \n",
      "1   10 incredible catches cubs made season anthony...          1  \n",
      "2   rt goes dead-center back-to-back blasts give c...         -1  \n",
      "3                          cubs win cubs win cubs win          1  \n",
      "4                                      mean fireemoji         -1  \n",
      "5   rt needed get hr party sends one center well 5...          1  \n",
      "6                                             rt 🇺🇸          0  \n",
      "7                             oh 's going royals cubs          0  \n",
      "8           rt phillies way talking cubs utley awhile          0  \n",
      "9   rt cubs win cubs sweep final cubs 9 brewers 2 ...          0  \n",
      "10  rt cubs win cubs sweep final cubs 9 brewers 2 ...          0  \n",
      "11  rt cubs win cubs sweep final cubs 9 brewers 2 ...          0  \n",
      "12  rt needed get hr party sends one center well 5...          1  \n",
      "13  rt chris denorfia lefty hits solo shot 8th 5th...         -1  \n",
      "14                                    back back jacks         -1  \n",
      "15  rep like said whining locker room crying home ...         -1  \n",
      "16  rt cubs win cubs sweep final cubs 9 brewers 2 ...          0  \n",
      "17  back back back cubs fire 🔥🔥🔥🔥🔥🔥🔥🔥 wear...          1  \n",
      "18  rt cubs win cubs sweep final cubs 9 brewers 2 ...          0  \n",
      "19      'm hoping cubs n't get swept sox playing well          0  \n",
      "20  rt line 6 ip 7 h 2 er 2 bb 10 k middle 8th cub...          0  \n",
      "21   schwarbs please gif schwarber/martinez head rubs          0  \n",
      "22                          hitting coach needs raise         -1  \n",
      "23  rt kyle schwarber 3-4 2 hr 4 rbi shines cubs b...          1  \n",
      "24                                       rt fireemoji          0  \n",
      "25              rt house crowd estimate vs 8/13 37,00          0  \n",
      "26                            cubs win cubs win 65-48          1  \n",
      "27  ugh lester could throw 1st cubs would n't need...         -1  \n",
      "28  attitude opp mgr would ca n't field position g...         -1  \n",
      "29                                               cubs          0  \n",
      "..                                                ...        ...  \n",
      "70  rt kyle schwarber 3-4 2 hr 4 rbi shines cubs b...          1  \n",
      "71                            hit shit back back cubs         -1  \n",
      "72  rt cubs hit three home runs inning first time ...          0  \n",
      "73  rt cubs win cubs sweep final cubs 9 brewers 2 ...          0  \n",
      "74  rt seven row kyle schwarber homers twice cubs ...          0  \n",
      "75                               happy lefthandersday          1  \n",
      "76  cravy 's arm turned homerun gravy amirite dele...          0  \n",
      "77                    fake ass cubs fans nowhere lmao         -1  \n",
      "78  rt cubs win cubs sweep final cubs 9 brewers 2 ...          0  \n",
      "79  cubs win want good luck 1 game playoff game pi...          1  \n",
      "80       2 sweeps brewers row make 2 weeks broom duty         -1  \n",
      "81                               cubs insane 😂😂🔥🔥          0  \n",
      "82                                            rt 🇺🇸          0  \n",
      "83             rt three 'em dex schwarber rizz letsgo          0  \n",
      "84             rt three 'em dex schwarber rizz letsgo          0  \n",
      "85                     breakfast new zealand watching          1  \n",
      "86                  rt won 13 last 14 games fireemoji          0  \n",
      "87  rt first lhp cubs history four double-digit st...          0  \n",
      "88  rt cubs win cubs sweep final cubs 9 brewers 2 ...          0  \n",
      "89  nationals n't finish postseason team rizzo cou...          0  \n",
      "90  rt cubs win cubs sweep final cubs 9 brewers 2 ...          0  \n",
      "91                                            rt 🇺🇸          0  \n",
      "92  happy birthday andre thornton blasted career-h...          0  \n",
      "93  review dinger fowler 12th season 60th career r...          0  \n",
      "94                            's blue jays won 11 row          1  \n",
      "95  every time jovani watches cubs points age sing...          1  \n",
      "96  rt cubs win cubs sweep final cubs 9 brewers 2 ...          0  \n",
      "97  rt cubs win cubs sweep final cubs 9 brewers 2 ...          0  \n",
      "98  rt needed get hr party sends one center well 5...          1  \n",
      "99  rt home run indeed 12 season puts cubs ahead 3...          1  \n",
      "\n",
      "[100 rows x 5 columns]\n"
     ]
    }
   ],
   "source": [
    "cubsDF['pol_class'] = cubsDF['sentiment']\n",
    "cubsDF['pol_class'] = cubsDF['pol_class'].replace(\"neutral\",0).replace(\"positive\",1).replace(\"negative\",-1)\n",
    "print cubsDF"
   ]
  },
  {
   "cell_type": "code",
   "execution_count": 67,
   "metadata": {
    "collapsed": false
   },
   "outputs": [
    {
     "data": {
      "text/plain": [
       "0.35999999999999999"
      ]
     },
     "execution_count": 67,
     "metadata": {},
     "output_type": "execute_result"
    }
   ],
   "source": [
    "#accuracy for Alchemy with Pre-processed tweets\n",
    "accuracy_score(label_list, list(cubsDF.pol_class))\n",
    "#fucking hell... 36% accuracy. yay."
   ]
  },
  {
   "cell_type": "code",
   "execution_count": 68,
   "metadata": {
    "collapsed": false
   },
   "outputs": [
    {
     "data": {
      "text/plain": [
       " 0    53\n",
       " 1    30\n",
       "-1    17\n",
       "dtype: int64"
      ]
     },
     "execution_count": 68,
     "metadata": {},
     "output_type": "execute_result"
    }
   ],
   "source": [
    "cubsDF.pol_class.value_counts()"
   ]
  },
  {
   "cell_type": "code",
   "execution_count": 69,
   "metadata": {
    "collapsed": false
   },
   "outputs": [
    {
     "name": "stdout",
     "output_type": "stream",
     "text": [
      "{0: 41, 1: 55, -1: 4}\n"
     ]
    }
   ],
   "source": [
    "print dict((i, label_list.count(i)) for i in label_list)"
   ]
  },
  {
   "cell_type": "code",
   "execution_count": 77,
   "metadata": {
    "collapsed": true
   },
   "outputs": [],
   "source": [
    "#bring in the non-processed alchemy scores from MongoDB to Pandas\n",
    "\n",
    "alchemyscores2 = pymongo.MongoClient().Alchemy.ResultsRaw\n",
    "cursor2 = alchemyscores2.find()\n",
    "cubsDF2 = pd.DataFrame(list(cursor2))  "
   ]
  },
  {
   "cell_type": "code",
   "execution_count": 78,
   "metadata": {
    "collapsed": false
   },
   "outputs": [
    {
     "data": {
      "text/plain": [
       "0.46999999999999997"
      ]
     },
     "execution_count": 78,
     "metadata": {},
     "output_type": "execute_result"
    }
   ],
   "source": [
    "cubsDF2['pol_class'] = cubsDF2['sentiment']\n",
    "cubsDF2['pol_class'] = cubsDF2['pol_class'].replace(\"neutral\",0).replace(\"positive\",1).replace(\"negative\",-1)\n",
    "accuracy_score(label_list, list(cubsDF2.pol_class))\n",
    "#accuracy for Alchemy with non-processed tweets is 47%"
   ]
  },
  {
   "cell_type": "code",
   "execution_count": null,
   "metadata": {
    "collapsed": true
   },
   "outputs": [],
   "source": []
  }
 ],
 "metadata": {
  "kernelspec": {
   "display_name": "Python 2",
   "language": "python",
   "name": "python2"
  },
  "language_info": {
   "codemirror_mode": {
    "name": "ipython",
    "version": 2
   },
   "file_extension": ".py",
   "mimetype": "text/x-python",
   "name": "python",
   "nbconvert_exporter": "python",
   "pygments_lexer": "ipython2",
   "version": "2.7.10"
  }
 },
 "nbformat": 4,
 "nbformat_minor": 0
}
