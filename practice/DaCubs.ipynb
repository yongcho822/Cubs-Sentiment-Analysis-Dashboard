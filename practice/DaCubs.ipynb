{
 "cells": [
  {
   "cell_type": "code",
   "execution_count": 65,
   "metadata": {
    "collapsed": true
   },
   "outputs": [],
   "source": [
    "import tweepy\n",
    "import sys\n",
    "import cnfg\n",
    "import pymongo\n",
    "import pandas as pd\n",
    "import dateutil.parser\n",
    "import datetime\n",
    "from datetime import timedelta\n",
    "import seaborn as sns\n",
    "import matplotlib.pyplot as plt\n",
    "import json\n",
    "import pickle\n",
    "import time\n",
    "from collections import defaultdict\n",
    "%matplotlib inline\n",
    "sns.set_style(\"darkgrid\")"
   ]
  },
  {
   "cell_type": "code",
   "execution_count": 2,
   "metadata": {
    "collapsed": false
   },
   "outputs": [
    {
     "name": "stdout",
     "output_type": "stream",
     "text": [
      "yong cho\n"
     ]
    }
   ],
   "source": [
    "#Steps 1 and 2:\n",
    "\n",
    "#--OAuth Authentication--aka getting permission to make API calls#\n",
    "#creating an OAuthHandler instance\n",
    "config = cnfg.load(\".twitter_config\")\n",
    "\n",
    "auth = tweepy.OAuthHandler(config[\"consumer_key\"],\n",
    "                           config[\"consumer_secret\"])\n",
    "auth.set_access_token(config[\"access_token\"],\n",
    "                      config[\"access_token_secret\"])\n",
    "\n",
    "api = tweepy.API(auth)\n",
    "\n",
    "#print out the name of the account as a test.\n",
    "print api.me().name"
   ]
  },
  {
   "cell_type": "code",
   "execution_count": 3,
   "metadata": {
    "collapsed": true
   },
   "outputs": [],
   "source": [
    "class CustomStreamListener2(tweepy.StreamListener):\n",
    "    def __init__(self):\n",
    "        self.api = api\n",
    "        super(tweepy.StreamListener, self).__init__()\n",
    "        \n",
    "        self.db = pymongo.MongoClient().Cubs\n",
    "        \n",
    "    def on_connect(self):\n",
    "        #Called when the connection is made\n",
    "        print(\"Connected to the streaming server.\")\n",
    "    \n",
    "    def on_status(self, status):\n",
    "        \n",
    "        data = defaultdict(list)\n",
    "        \n",
    "        data['text'] = status.text\n",
    "        data['created_at'] = status.created_at\n",
    "        data['geo'] = status.geo\n",
    "        data['source'] = status.source\n",
    "        \n",
    "        data['user'] = status.user.screen_name\n",
    "        \n",
    "        if status.entities['hashtags']:\n",
    "            for hashtag in status.entities['hashtags']:\n",
    "                data['hashtag'].append(hashtag['text'])\n",
    "        else:\n",
    "            data['hashtag'] = None\n",
    "\n",
    "        print status.text, '\\n'\n",
    "        \n",
    "        self.db.ThursTweets.insert(data)\n",
    "\n",
    "    def on_error(self, status_code):\n",
    "        print >> sys.stderr, 'Encountered error with status code:', status_code\n",
    "        time.sleep(5)\n",
    "        return True # Don't kill the stream\n",
    "\n",
    "    def on_timeout(self):\n",
    "        print >> sys.stderr, 'Timeout...'\n",
    "        return True # Don't kill the stream"
   ]
  },
  {
   "cell_type": "code",
   "execution_count": null,
   "metadata": {
    "collapsed": false
   },
   "outputs": [
    {
     "name": "stdout",
     "output_type": "stream",
     "text": [
      "Connected to the streaming server.\n",
      "$50 on U8.5 Cubs game @ 2\n",
      "\n",
      "@nickgiglioo \n",
      "\n",
      "If you catch a home run ball and throw it back not only are you an idiot, but you deserve to root for the #Cubs . #baseball \n",
      "\n",
      "Protect their cubs, that's what mother bears do, Stay out of their space if u don't want to get mauled...Just sayin https://t.co/IKeJESdf7S \n",
      "\n",
      "@MLBrendan @alarre1 @JeffPassan Cubs are a national team, it would do way better than the Nationals or Giants in the game. \n",
      "\n",
      "RT @stoolpresidente: LOL. @BarstoolBigCat @NESN: Cubs are good. Rizzo + Theo Epstein celebrated with karaoke. http://t.co/k8mpTctNYF http:/… \n",
      "\n",
      "#LetsGo #LetsGive https://t.co/uNz6uM5IQt \n",
      "\n",
      "Cub Tracks Is On A Roll http://t.co/WNJamwkDzc #Cubs #mlb \n",
      "\n",
      "@nsperry2 @CarrieMuskat Looked it up today, Sox vs Cubs series has gone to the Sox 10 times, Cubs 4 times, split 4 times \n",
      "\n",
      "RT @MLBONFOX: The #BlueJays, #Mets &amp; #Cubs have gone a collective 26-3 since August 2nd\n",
      "\n",
      "How'd it happen? http://t.co/NQUkKLVYEp http://t.c… \n",
      "\n",
      "RT @MLBONFOX: The #BlueJays, #Mets &amp; #Cubs have gone a collective 26-3 since August 2nd\n",
      "\n",
      "How'd it happen? http://t.co/NQUkKLVYEp http://t.c… \n",
      "\n",
      "RT @SBNation: This balancing act from Anthony Rizzo is unbelievable\n",
      "(via @Cubs)\n",
      "http://t.co/OAswi9hXyi\n",
      "http://t.co/rMxFN8OVOi \n",
      "\n",
      "RT @Cubs: It's @JLester34's turn in the series finale.\n",
      "\n",
      "Game preview: http://t.co/CiVNsoVZ7P #LetsGo http://t.co/E4ioaF7HMr \n",
      "\n",
      "@RotoAnalysis @FantasyRundown whoops. Cubs in at 2nd wild card. \n",
      "\n",
      "RT @marketinparley: #Picks #MLB\n",
      "Washinton ML\n",
      "Toronto ML\n",
      "Yankees ML\n",
      "Pittsburgh ML\n",
      "Mets Baja\n",
      "Kansas ML\n",
      "Cubs RL MJ\n",
      "Dodgers ML \n",
      "\n",
      "@BleacherNation @CubsNoHitStreak is this the same guy that said Jorge Soler was the Cubs next leadoff hitter? Brah \n",
      "\n",
      "@TheComiskeyKid This is a Bears town, first and foremost. Everything else, including Cubs is second! Heck, Soldier Field is on the SouthSide \n",
      "\n",
      "RT @Hayley_Demler: Thanks for the tickets! @Cubs @ARizzo44 http://t.co/WRF4a52HNS \n",
      "\n",
      "I am loving, LOVING Mr. August. 🔥😍❤️ @Cubs @JArrieta34 http://t.co/BQf0zUuAlT \n",
      "\n",
      "Cubs looking for their third sweep in four series with Lester on the mound. I like their chance #GoCubsGo \n",
      "\n",
      "RT @bwz428: #LetsGo #LetsGive https://t.co/uNz6uM5IQt \n",
      "\n",
      "RT @bwz428: #LetsGo #LetsGive https://t.co/uNz6uM5IQt \n",
      "\n",
      "ICYMI: #Phillies should not look for 'significant prospect' in return for Utley; #Giants, #Cubs remain frontrunners http://t.co/Z4HsYcHssu \n",
      "\n",
      "RT @miggymont26: Are the Cubs good ? #wearenotgood #weareamazinggood \n",
      "\n",
      "I'm still getting used to the Cubs having a real manager and real players. \n",
      "\n",
      "RT @TheRealDile: @TheRealTopp if #Cubs don't like the rules, perhaps they should take their talents to Japan. \n",
      "\n",
      "#Cubs vs #Brewers, Cravy (8/13):\n",
      "Fowler CF\n",
      "Schwarber LF\n",
      "Coghlan 2B\n",
      "Rizzo 1B\n",
      "Bryant 3B\n",
      "Soler RF\n",
      "Ross C\n",
      "Lester P\n",
      "Russell SS \n",
      "\n",
      "If my laptop wants to hurry up and start working quickly it would be great! Cubs game starts in 10!! #GoCubsGo #WeAreGood #LetsGo 🐻⚾️💙 \n",
      "\n",
      "RT @NVRQT31: RT Today we pull for the .@Cubs and for every kid fighting cancer. Let every kid know tonight we'll raise $ for new/better sci… \n",
      "\n",
      "Montero homer gives Cubs 3-2 win over Brewers in 10th http://t.co/189jtD7UEu http://t.co/mrZNuoVbbI \n",
      "\n",
      "RT @JimRoseABC7: At 1pm its @Cubs baseball on @ABC7Chicago pre game show featuring, @kylehendricks28 @LenKasper @JimDeshaies http://t.co/OB… \n",
      "\n",
      "#cubs game (@ Wrigley Field - @mlb for Milwaukee Brewers vs Chicago Cubs in Chicago, IL) https://t.co/HQOWzEybOO \n",
      "\n",
      "RT @KenDavidoff: Which was more entertaining, Mike Rizzo's catch last night or Derek Jeter's bloody catch of 2004? #Cubs #Yankees http://t.… \n",
      "\n",
      "All #Cubs SPs rank in the top 50 in ERA, top 30 in WHIP,  top 50 in BAA. #pitchingwinschampionships \n",
      "\n",
      "Compared with Cubs, White Sox suffering an attention deficit: Games with playoff implications were played on b... http://t.co/DWfsQVNsc1 \n",
      "\n",
      "Cubs Game Day: Win one for Pedro Strop: The Chicago Cubs are in good shape to set a season high seventh consec... http://t.co/FlG9unCnxC \n",
      "\n",
      "@JCook32 @spdebo21 @TonyMarco115 but aren't those numbers based off of players that aren't even on the Cubs? Therefore mean nothing to me \n",
      "\n",
      "Compared with Cubs, White Sox suffering an attention deficit: Games with playoff implications were played on b... http://t.co/H8x4BwyWN6 \n",
      "\n",
      "Cubs Game Day: Win one for Pedro Strop: The Chicago Cubs are in good shape to set a season high seventh consec... http://t.co/Vyp8sgYXvu \n",
      "\n",
      "Compared with Cubs, White Sox suffering an attention deficit: Games with playoff implications were played on b... http://t.co/5irq4Nb3HS \n",
      "\n",
      "Cubs Game Day: Win one for Pedro Strop: The Chicago Cubs are in good shape to set a season high seventh consec... http://t.co/6bl2K5Afo2 \n",
      "\n",
      "So sick of not being able to watch @Cubs games on TV \n",
      "\n",
      "Compared with Cubs, White Sox suffering an attention deficit: Games with playoff implications were played on b... http://t.co/JEiIR0YBRH \n",
      "\n",
      "@STX500Quad @CoorsLight @Cubs I did a little too much of that last night, but man what a game. \n",
      "\n",
      "Cubs Game Day: Win one for Pedro Strop: The Chicago Cubs are in good shape to set a season high seventh consec... http://t.co/GZ31OMZFGL \n",
      "\n",
      "Compared with Cubs, White Sox suffering an attention deficit: Games with playoff implications were played on b... http://t.co/MJvXJQ0rZ3 \n",
      "\n",
      "Cubs Game Day: Win one for Pedro Strop: The Chicago Cubs are in good shape to set a season high seventh consec... http://t.co/UlX8z3u2Kq \n",
      "\n",
      "RT @DexterFowler: Figuring out my next walk out music with my @Cubs limited edition @beatsbydre #turnup #beatsbydre #cubs #letsgo http://t.…"
     ]
    }
   ],
   "source": [
    "while True:\n",
    "    try:\n",
    "        sapi2 = tweepy.streaming.Stream(auth, CustomStreamListener2())\n",
    "        sapi2.filter(track=['cubs'])\n",
    "    except Exception as e:\n",
    "        print \"Had an error,\", e\n",
    "        pass"
   ]
  },
  {
   "cell_type": "code",
   "execution_count": 4,
   "metadata": {
    "collapsed": false
   },
   "outputs": [
    {
     "name": "stdout",
     "output_type": "stream",
     "text": [
      "22396\n"
     ]
    }
   ],
   "source": [
    "tweets = pymongo.MongoClient().Cubs.ThursTweets\n",
    "cursor = tweets.find()\n",
    "DF = pd.DataFrame(list(cursor))\n",
    "print len(DF)"
   ]
  },
  {
   "cell_type": "code",
   "execution_count": 5,
   "metadata": {
    "collapsed": true
   },
   "outputs": [],
   "source": [
    "cubs_tweets = pymongo.MongoClient().Cubs.ThursTweets\n",
    "cursor = cubs_tweets.find()\n",
    "cubsDF = pd.DataFrame(list(cursor))"
   ]
  },
  {
   "cell_type": "code",
   "execution_count": 6,
   "metadata": {
    "collapsed": false
   },
   "outputs": [
    {
     "data": {
      "text/html": [
       "<div>\n",
       "<table border=\"1\" class=\"dataframe\">\n",
       "  <thead>\n",
       "    <tr style=\"text-align: right;\">\n",
       "      <th></th>\n",
       "      <th>_id</th>\n",
       "      <th>created_at</th>\n",
       "      <th>geo</th>\n",
       "      <th>hashtag</th>\n",
       "      <th>source</th>\n",
       "      <th>text</th>\n",
       "      <th>user</th>\n",
       "    </tr>\n",
       "  </thead>\n",
       "  <tbody>\n",
       "    <tr>\n",
       "      <th>0</th>\n",
       "      <td>55ccdd80b187a80779b0bc06</td>\n",
       "      <td>2015-08-13 18:10:06</td>\n",
       "      <td>None</td>\n",
       "      <td>None</td>\n",
       "      <td>Twitter for iPhone</td>\n",
       "      <td>$50 on U8.5 Cubs game @ 2\\n\\n@nickgiglioo</td>\n",
       "      <td>PPBets365</td>\n",
       "    </tr>\n",
       "    <tr>\n",
       "      <th>1</th>\n",
       "      <td>55ccdd80b187a80779b0bc07</td>\n",
       "      <td>2015-08-13 18:10:07</td>\n",
       "      <td>None</td>\n",
       "      <td>[Cubs, baseball]</td>\n",
       "      <td>Echofon</td>\n",
       "      <td>If you catch a home run ball and throw it back...</td>\n",
       "      <td>keith_saunders</td>\n",
       "    </tr>\n",
       "    <tr>\n",
       "      <th>2</th>\n",
       "      <td>55ccdd82b187a80779b0bc08</td>\n",
       "      <td>2015-08-13 18:10:09</td>\n",
       "      <td>None</td>\n",
       "      <td>None</td>\n",
       "      <td>Twitter Web Client</td>\n",
       "      <td>Protect their cubs, that's what mother bears d...</td>\n",
       "      <td>lthearted1</td>\n",
       "    </tr>\n",
       "    <tr>\n",
       "      <th>3</th>\n",
       "      <td>55ccdd86b187a80779b0bc09</td>\n",
       "      <td>2015-08-13 18:10:14</td>\n",
       "      <td>None</td>\n",
       "      <td>None</td>\n",
       "      <td>Twitter for iPhone</td>\n",
       "      <td>@MLBrendan @alarre1 @JeffPassan Cubs are a nat...</td>\n",
       "      <td>jw_mike</td>\n",
       "    </tr>\n",
       "    <tr>\n",
       "      <th>4</th>\n",
       "      <td>55ccdd86b187a80779b0bc0a</td>\n",
       "      <td>2015-08-13 18:10:14</td>\n",
       "      <td>None</td>\n",
       "      <td>None</td>\n",
       "      <td>Twitter for iPhone</td>\n",
       "      <td>RT @stoolpresidente: LOL. @BarstoolBigCat @NES...</td>\n",
       "      <td>patowens77</td>\n",
       "    </tr>\n",
       "  </tbody>\n",
       "</table>\n",
       "</div>"
      ],
      "text/plain": [
       "                        _id          created_at   geo           hashtag  \\\n",
       "0  55ccdd80b187a80779b0bc06 2015-08-13 18:10:06  None              None   \n",
       "1  55ccdd80b187a80779b0bc07 2015-08-13 18:10:07  None  [Cubs, baseball]   \n",
       "2  55ccdd82b187a80779b0bc08 2015-08-13 18:10:09  None              None   \n",
       "3  55ccdd86b187a80779b0bc09 2015-08-13 18:10:14  None              None   \n",
       "4  55ccdd86b187a80779b0bc0a 2015-08-13 18:10:14  None              None   \n",
       "\n",
       "               source                                               text  \\\n",
       "0  Twitter for iPhone          $50 on U8.5 Cubs game @ 2\\n\\n@nickgiglioo   \n",
       "1             Echofon  If you catch a home run ball and throw it back...   \n",
       "2  Twitter Web Client  Protect their cubs, that's what mother bears d...   \n",
       "3  Twitter for iPhone  @MLBrendan @alarre1 @JeffPassan Cubs are a nat...   \n",
       "4  Twitter for iPhone  RT @stoolpresidente: LOL. @BarstoolBigCat @NES...   \n",
       "\n",
       "             user  \n",
       "0       PPBets365  \n",
       "1  keith_saunders  \n",
       "2      lthearted1  \n",
       "3         jw_mike  \n",
       "4      patowens77  "
      ]
     },
     "execution_count": 6,
     "metadata": {},
     "output_type": "execute_result"
    }
   ],
   "source": [
    "cubsDF.head()"
   ]
  },
  {
   "cell_type": "code",
   "execution_count": 7,
   "metadata": {
    "collapsed": false
   },
   "outputs": [
    {
     "data": {
      "text/html": [
       "<div>\n",
       "<table border=\"1\" class=\"dataframe\">\n",
       "  <thead>\n",
       "    <tr style=\"text-align: right;\">\n",
       "      <th></th>\n",
       "      <th>created_at</th>\n",
       "      <th>text</th>\n",
       "      <th>hashtag</th>\n",
       "      <th>user</th>\n",
       "      <th>geo</th>\n",
       "      <th>source</th>\n",
       "    </tr>\n",
       "  </thead>\n",
       "  <tbody>\n",
       "    <tr>\n",
       "      <th>0</th>\n",
       "      <td>2015-08-13 18:10:06</td>\n",
       "      <td>$50 on U8.5 Cubs game @ 2\\n\\n@nickgiglioo</td>\n",
       "      <td>None</td>\n",
       "      <td>PPBets365</td>\n",
       "      <td>None</td>\n",
       "      <td>Twitter for iPhone</td>\n",
       "    </tr>\n",
       "    <tr>\n",
       "      <th>1</th>\n",
       "      <td>2015-08-13 18:10:07</td>\n",
       "      <td>If you catch a home run ball and throw it back...</td>\n",
       "      <td>[Cubs, baseball]</td>\n",
       "      <td>keith_saunders</td>\n",
       "      <td>None</td>\n",
       "      <td>Echofon</td>\n",
       "    </tr>\n",
       "    <tr>\n",
       "      <th>2</th>\n",
       "      <td>2015-08-13 18:10:09</td>\n",
       "      <td>Protect their cubs, that's what mother bears d...</td>\n",
       "      <td>None</td>\n",
       "      <td>lthearted1</td>\n",
       "      <td>None</td>\n",
       "      <td>Twitter Web Client</td>\n",
       "    </tr>\n",
       "    <tr>\n",
       "      <th>3</th>\n",
       "      <td>2015-08-13 18:10:14</td>\n",
       "      <td>@MLBrendan @alarre1 @JeffPassan Cubs are a nat...</td>\n",
       "      <td>None</td>\n",
       "      <td>jw_mike</td>\n",
       "      <td>None</td>\n",
       "      <td>Twitter for iPhone</td>\n",
       "    </tr>\n",
       "    <tr>\n",
       "      <th>4</th>\n",
       "      <td>2015-08-13 18:10:14</td>\n",
       "      <td>RT @stoolpresidente: LOL. @BarstoolBigCat @NES...</td>\n",
       "      <td>None</td>\n",
       "      <td>patowens77</td>\n",
       "      <td>None</td>\n",
       "      <td>Twitter for iPhone</td>\n",
       "    </tr>\n",
       "  </tbody>\n",
       "</table>\n",
       "</div>"
      ],
      "text/plain": [
       "           created_at                                               text  \\\n",
       "0 2015-08-13 18:10:06          $50 on U8.5 Cubs game @ 2\\n\\n@nickgiglioo   \n",
       "1 2015-08-13 18:10:07  If you catch a home run ball and throw it back...   \n",
       "2 2015-08-13 18:10:09  Protect their cubs, that's what mother bears d...   \n",
       "3 2015-08-13 18:10:14  @MLBrendan @alarre1 @JeffPassan Cubs are a nat...   \n",
       "4 2015-08-13 18:10:14  RT @stoolpresidente: LOL. @BarstoolBigCat @NES...   \n",
       "\n",
       "            hashtag            user   geo              source  \n",
       "0              None       PPBets365  None  Twitter for iPhone  \n",
       "1  [Cubs, baseball]  keith_saunders  None             Echofon  \n",
       "2              None      lthearted1  None  Twitter Web Client  \n",
       "3              None         jw_mike  None  Twitter for iPhone  \n",
       "4              None      patowens77  None  Twitter for iPhone  "
      ]
     },
     "execution_count": 7,
     "metadata": {},
     "output_type": "execute_result"
    }
   ],
   "source": [
    "cleanDF = cubsDF[['created_at','text','hashtag','user','geo','source']]\n",
    "cleanDF.head()"
   ]
  },
  {
   "cell_type": "code",
   "execution_count": 8,
   "metadata": {
    "collapsed": false
   },
   "outputs": [
    {
     "name": "stderr",
     "output_type": "stream",
     "text": [
      "/Users/yongcho822/anaconda/lib/python2.7/site-packages/IPython/kernel/__main__.py:1: SettingWithCopyWarning: \n",
      "A value is trying to be set on a copy of a slice from a DataFrame.\n",
      "Try using .loc[row_indexer,col_indexer] = value instead\n",
      "\n",
      "See the the caveats in the documentation: http://pandas.pydata.org/pandas-docs/stable/indexing.html#indexing-view-versus-copy\n",
      "  if __name__ == '__main__':\n"
     ]
    },
    {
     "data": {
      "text/html": [
       "<div>\n",
       "<table border=\"1\" class=\"dataframe\">\n",
       "  <thead>\n",
       "    <tr style=\"text-align: right;\">\n",
       "      <th></th>\n",
       "      <th>created_at</th>\n",
       "      <th>text</th>\n",
       "      <th>hashtag</th>\n",
       "      <th>user</th>\n",
       "      <th>geo</th>\n",
       "      <th>source</th>\n",
       "    </tr>\n",
       "    <tr>\n",
       "      <th>created_at</th>\n",
       "      <th></th>\n",
       "      <th></th>\n",
       "      <th></th>\n",
       "      <th></th>\n",
       "      <th></th>\n",
       "      <th></th>\n",
       "    </tr>\n",
       "  </thead>\n",
       "  <tbody>\n",
       "    <tr>\n",
       "      <th>2015-08-13 18:10:06</th>\n",
       "      <td>2015-08-13 18:10:06</td>\n",
       "      <td>$50 on U8.5 Cubs game @ 2\\n\\n@nickgiglioo</td>\n",
       "      <td>None</td>\n",
       "      <td>PPBets365</td>\n",
       "      <td>None</td>\n",
       "      <td>Twitter for iPhone</td>\n",
       "    </tr>\n",
       "    <tr>\n",
       "      <th>2015-08-13 18:10:07</th>\n",
       "      <td>2015-08-13 18:10:07</td>\n",
       "      <td>If you catch a home run ball and throw it back...</td>\n",
       "      <td>[Cubs, baseball]</td>\n",
       "      <td>keith_saunders</td>\n",
       "      <td>None</td>\n",
       "      <td>Echofon</td>\n",
       "    </tr>\n",
       "    <tr>\n",
       "      <th>2015-08-13 18:10:09</th>\n",
       "      <td>2015-08-13 18:10:09</td>\n",
       "      <td>Protect their cubs, that's what mother bears d...</td>\n",
       "      <td>None</td>\n",
       "      <td>lthearted1</td>\n",
       "      <td>None</td>\n",
       "      <td>Twitter Web Client</td>\n",
       "    </tr>\n",
       "    <tr>\n",
       "      <th>2015-08-13 18:10:14</th>\n",
       "      <td>2015-08-13 18:10:14</td>\n",
       "      <td>@MLBrendan @alarre1 @JeffPassan Cubs are a nat...</td>\n",
       "      <td>None</td>\n",
       "      <td>jw_mike</td>\n",
       "      <td>None</td>\n",
       "      <td>Twitter for iPhone</td>\n",
       "    </tr>\n",
       "    <tr>\n",
       "      <th>2015-08-13 18:10:14</th>\n",
       "      <td>2015-08-13 18:10:14</td>\n",
       "      <td>RT @stoolpresidente: LOL. @BarstoolBigCat @NES...</td>\n",
       "      <td>None</td>\n",
       "      <td>patowens77</td>\n",
       "      <td>None</td>\n",
       "      <td>Twitter for iPhone</td>\n",
       "    </tr>\n",
       "  </tbody>\n",
       "</table>\n",
       "</div>"
      ],
      "text/plain": [
       "                             created_at  \\\n",
       "created_at                                \n",
       "2015-08-13 18:10:06 2015-08-13 18:10:06   \n",
       "2015-08-13 18:10:07 2015-08-13 18:10:07   \n",
       "2015-08-13 18:10:09 2015-08-13 18:10:09   \n",
       "2015-08-13 18:10:14 2015-08-13 18:10:14   \n",
       "2015-08-13 18:10:14 2015-08-13 18:10:14   \n",
       "\n",
       "                                                                  text  \\\n",
       "created_at                                                               \n",
       "2015-08-13 18:10:06          $50 on U8.5 Cubs game @ 2\\n\\n@nickgiglioo   \n",
       "2015-08-13 18:10:07  If you catch a home run ball and throw it back...   \n",
       "2015-08-13 18:10:09  Protect their cubs, that's what mother bears d...   \n",
       "2015-08-13 18:10:14  @MLBrendan @alarre1 @JeffPassan Cubs are a nat...   \n",
       "2015-08-13 18:10:14  RT @stoolpresidente: LOL. @BarstoolBigCat @NES...   \n",
       "\n",
       "                              hashtag            user   geo  \\\n",
       "created_at                                                    \n",
       "2015-08-13 18:10:06              None       PPBets365  None   \n",
       "2015-08-13 18:10:07  [Cubs, baseball]  keith_saunders  None   \n",
       "2015-08-13 18:10:09              None      lthearted1  None   \n",
       "2015-08-13 18:10:14              None         jw_mike  None   \n",
       "2015-08-13 18:10:14              None      patowens77  None   \n",
       "\n",
       "                                 source  \n",
       "created_at                               \n",
       "2015-08-13 18:10:06  Twitter for iPhone  \n",
       "2015-08-13 18:10:07             Echofon  \n",
       "2015-08-13 18:10:09  Twitter Web Client  \n",
       "2015-08-13 18:10:14  Twitter for iPhone  \n",
       "2015-08-13 18:10:14  Twitter for iPhone  "
      ]
     },
     "execution_count": 8,
     "metadata": {},
     "output_type": "execute_result"
    }
   ],
   "source": [
    "cleanDF['created_at'] = pd.to_datetime(pd.Series(cleanDF['created_at']))\n",
    "cleanDF.set_index('created_at', drop=False, inplace=True)\n",
    "cleanDF.head()"
   ]
  },
  {
   "cell_type": "code",
   "execution_count": 9,
   "metadata": {
    "collapsed": true
   },
   "outputs": [],
   "source": [
    "import pytz\n",
    "eastern = pytz.timezone('US/Eastern')\n",
    "cleanDF.index = cleanDF.index.tz_localize('GMT').tz_convert(eastern)"
   ]
  },
  {
   "cell_type": "code",
   "execution_count": 10,
   "metadata": {
    "collapsed": false
   },
   "outputs": [
    {
     "data": {
      "text/html": [
       "<div>\n",
       "<table border=\"1\" class=\"dataframe\">\n",
       "  <thead>\n",
       "    <tr style=\"text-align: right;\">\n",
       "      <th></th>\n",
       "      <th>created_at</th>\n",
       "      <th>text</th>\n",
       "      <th>hashtag</th>\n",
       "      <th>user</th>\n",
       "      <th>geo</th>\n",
       "      <th>source</th>\n",
       "    </tr>\n",
       "    <tr>\n",
       "      <th>created_at</th>\n",
       "      <th></th>\n",
       "      <th></th>\n",
       "      <th></th>\n",
       "      <th></th>\n",
       "      <th></th>\n",
       "      <th></th>\n",
       "    </tr>\n",
       "  </thead>\n",
       "  <tbody>\n",
       "    <tr>\n",
       "      <th>2015-08-13 14:10:06-04:00</th>\n",
       "      <td>2015-08-13 18:10:06</td>\n",
       "      <td>$50 on U8.5 Cubs game @ 2\\n\\n@nickgiglioo</td>\n",
       "      <td>None</td>\n",
       "      <td>PPBets365</td>\n",
       "      <td>None</td>\n",
       "      <td>Twitter for iPhone</td>\n",
       "    </tr>\n",
       "    <tr>\n",
       "      <th>2015-08-13 14:10:07-04:00</th>\n",
       "      <td>2015-08-13 18:10:07</td>\n",
       "      <td>If you catch a home run ball and throw it back...</td>\n",
       "      <td>[Cubs, baseball]</td>\n",
       "      <td>keith_saunders</td>\n",
       "      <td>None</td>\n",
       "      <td>Echofon</td>\n",
       "    </tr>\n",
       "    <tr>\n",
       "      <th>2015-08-13 14:10:09-04:00</th>\n",
       "      <td>2015-08-13 18:10:09</td>\n",
       "      <td>Protect their cubs, that's what mother bears d...</td>\n",
       "      <td>None</td>\n",
       "      <td>lthearted1</td>\n",
       "      <td>None</td>\n",
       "      <td>Twitter Web Client</td>\n",
       "    </tr>\n",
       "    <tr>\n",
       "      <th>2015-08-13 14:10:14-04:00</th>\n",
       "      <td>2015-08-13 18:10:14</td>\n",
       "      <td>@MLBrendan @alarre1 @JeffPassan Cubs are a nat...</td>\n",
       "      <td>None</td>\n",
       "      <td>jw_mike</td>\n",
       "      <td>None</td>\n",
       "      <td>Twitter for iPhone</td>\n",
       "    </tr>\n",
       "    <tr>\n",
       "      <th>2015-08-13 14:10:14-04:00</th>\n",
       "      <td>2015-08-13 18:10:14</td>\n",
       "      <td>RT @stoolpresidente: LOL. @BarstoolBigCat @NES...</td>\n",
       "      <td>None</td>\n",
       "      <td>patowens77</td>\n",
       "      <td>None</td>\n",
       "      <td>Twitter for iPhone</td>\n",
       "    </tr>\n",
       "  </tbody>\n",
       "</table>\n",
       "</div>"
      ],
      "text/plain": [
       "                                   created_at  \\\n",
       "created_at                                      \n",
       "2015-08-13 14:10:06-04:00 2015-08-13 18:10:06   \n",
       "2015-08-13 14:10:07-04:00 2015-08-13 18:10:07   \n",
       "2015-08-13 14:10:09-04:00 2015-08-13 18:10:09   \n",
       "2015-08-13 14:10:14-04:00 2015-08-13 18:10:14   \n",
       "2015-08-13 14:10:14-04:00 2015-08-13 18:10:14   \n",
       "\n",
       "                                                                        text  \\\n",
       "created_at                                                                     \n",
       "2015-08-13 14:10:06-04:00          $50 on U8.5 Cubs game @ 2\\n\\n@nickgiglioo   \n",
       "2015-08-13 14:10:07-04:00  If you catch a home run ball and throw it back...   \n",
       "2015-08-13 14:10:09-04:00  Protect their cubs, that's what mother bears d...   \n",
       "2015-08-13 14:10:14-04:00  @MLBrendan @alarre1 @JeffPassan Cubs are a nat...   \n",
       "2015-08-13 14:10:14-04:00  RT @stoolpresidente: LOL. @BarstoolBigCat @NES...   \n",
       "\n",
       "                                    hashtag            user   geo  \\\n",
       "created_at                                                          \n",
       "2015-08-13 14:10:06-04:00              None       PPBets365  None   \n",
       "2015-08-13 14:10:07-04:00  [Cubs, baseball]  keith_saunders  None   \n",
       "2015-08-13 14:10:09-04:00              None      lthearted1  None   \n",
       "2015-08-13 14:10:14-04:00              None         jw_mike  None   \n",
       "2015-08-13 14:10:14-04:00              None      patowens77  None   \n",
       "\n",
       "                                       source  \n",
       "created_at                                     \n",
       "2015-08-13 14:10:06-04:00  Twitter for iPhone  \n",
       "2015-08-13 14:10:07-04:00             Echofon  \n",
       "2015-08-13 14:10:09-04:00  Twitter Web Client  \n",
       "2015-08-13 14:10:14-04:00  Twitter for iPhone  \n",
       "2015-08-13 14:10:14-04:00  Twitter for iPhone  "
      ]
     },
     "execution_count": 10,
     "metadata": {},
     "output_type": "execute_result"
    }
   ],
   "source": [
    "cleanDF.head()"
   ]
  },
  {
   "cell_type": "code",
   "execution_count": 11,
   "metadata": {
    "collapsed": true
   },
   "outputs": [],
   "source": [
    "cubs1m = cleanDF['created_at'].resample('1t', how='count')\n",
    "cubs1m.index = map(lambda x:x.strftime('%I:%M %p'), cubs1m.index)"
   ]
  },
  {
   "cell_type": "code",
   "execution_count": 64,
   "metadata": {
    "collapsed": false
   },
   "outputs": [
    {
     "data": {
      "text/plain": [
       "<matplotlib.axes._subplots.AxesSubplot at 0x115522c90>"
      ]
     },
     "execution_count": 64,
     "metadata": {},
     "output_type": "execute_result"
    },
    {
     "data": {
      "image/png": "[encoded data removed]",
      "text/plain": [
       "<matplotlib.figure.Figure at 0x115522d10>"
      ]
     },
     "metadata": {},
     "output_type": "display_data"
    }
   ],
   "source": [
    "fig = plt.figure(figsize=(18,8))\n",
    "ax = fig.add_subplot(1, 1, 1)\n",
    "cubs1m.plot(kind='area', color='royalblue', alpha=0.5)"
   ]
  },
  {
   "cell_type": "code",
   "execution_count": 13,
   "metadata": {
    "collapsed": true
   },
   "outputs": [],
   "source": [
    "import nltk\n",
    "from nltk.corpus import stopwords\n",
    "from nltk import FreqDist\n",
    "\n",
    "stop = stopwords.words('english')\n",
    "text = cleanDF['text']"
   ]
  },
  {
   "cell_type": "code",
   "execution_count": 14,
   "metadata": {
    "collapsed": true
   },
   "outputs": [],
   "source": [
    "tokens = []\n",
    "for txt in text.values:\n",
    "    tokens.extend([t.lower().strip(\":,.\") for t in txt.split()])\n",
    "\n",
    "filtered_tokens = [w for w in tokens if not w in stop]\n",
    "freq_dist = nltk.FreqDist(filtered_tokens)"
   ]
  },
  {
   "cell_type": "code",
   "execution_count": 15,
   "metadata": {
    "collapsed": true
   },
   "outputs": [],
   "source": [
    "freq_series = pd.Series(freq_dist)\n",
    "freq_series1 = freq_series.order(ascending=False)[:25]"
   ]
  },
  {
   "cell_type": "code",
   "execution_count": 63,
   "metadata": {
    "collapsed": false,
    "scrolled": true
   },
   "outputs": [
    {
     "data": {
      "text/plain": [
       "[<matplotlib.text.Text at 0x11ab99a50>,\n",
       " <matplotlib.text.Text at 0x11dd7a990>,\n",
       " <matplotlib.text.Text at 0x1154c5290>,\n",
       " <matplotlib.text.Text at 0x1154c59d0>,\n",
       " <matplotlib.text.Text at 0x1154e3190>,\n",
       " <matplotlib.text.Text at 0x1154e3910>,\n",
       " <matplotlib.text.Text at 0x1154f30d0>,\n",
       " <matplotlib.text.Text at 0x1154f3850>,\n",
       " <matplotlib.text.Text at 0x1154f3fd0>,\n",
       " <matplotlib.text.Text at 0x1154c1790>,\n",
       " <matplotlib.text.Text at 0x1154c1f10>,\n",
       " <matplotlib.text.Text at 0x1155276d0>,\n",
       " <matplotlib.text.Text at 0x115527e50>,\n",
       " <matplotlib.text.Text at 0x11551d610>,\n",
       " <matplotlib.text.Text at 0x115495390>,\n",
       " <matplotlib.text.Text at 0x11ab99290>,\n",
       " <matplotlib.text.Text at 0x1130dc190>,\n",
       " <matplotlib.text.Text at 0x1155303d0>,\n",
       " <matplotlib.text.Text at 0x115530b50>,\n",
       " <matplotlib.text.Text at 0x115529310>,\n",
       " <matplotlib.text.Text at 0x115529a90>,\n",
       " <matplotlib.text.Text at 0x11550b250>,\n",
       " <matplotlib.text.Text at 0x11550b9d0>,\n",
       " <matplotlib.text.Text at 0x115531190>,\n",
       " <matplotlib.text.Text at 0x115531910>]"
      ]
     },
     "execution_count": 63,
     "metadata": {},
     "output_type": "execute_result"
    },
    {
     "data": {
      "image/png": "[encoded data removed]",
      "text/plain": [
       "<matplotlib.figure.Figure at 0x11501b490>"
      ]
     },
     "metadata": {},
     "output_type": "display_data"
    }
   ],
   "source": [
    "fig = plt.figure(figsize = (14,6))\n",
    "ax = fig.add_subplot(1,1,1)\n",
    "freq_series1.plot(kind = 'bar', use_index=True)\n",
    "ax.set_xticklabels(freq_series1.index, rotation=45, fontsize = 12)\n",
    "\n",
    "#maybe normalize these so they are a percentage of the total tweets?"
   ]
  },
  {
   "cell_type": "code",
   "execution_count": 18,
   "metadata": {
    "collapsed": true
   },
   "outputs": [],
   "source": [
    "from textblob import TextBlob\n",
    "from textblob.sentiments import NaiveBayesAnalyzer"
   ]
  },
  {
   "cell_type": "code",
   "execution_count": 24,
   "metadata": {
    "collapsed": false
   },
   "outputs": [
    {
     "data": {
      "text/plain": [
       "22396"
      ]
     },
     "execution_count": 24,
     "metadata": {},
     "output_type": "execute_result"
    }
   ],
   "source": [
    "len(cleanDF)"
   ]
  },
  {
   "cell_type": "code",
   "execution_count": 38,
   "metadata": {
    "collapsed": false
   },
   "outputs": [
    {
     "name": "stdout",
     "output_type": "stream",
     "text": [
      "Done here.\n"
     ]
    },
    {
     "name": "stderr",
     "output_type": "stream",
     "text": [
      "/Users/yongcho822/anaconda/lib/python2.7/site-packages/pandas/core/generic.py:2177: SettingWithCopyWarning: \n",
      "A value is trying to be set on a copy of a slice from a DataFrame.\n",
      "Try using .loc[row_indexer,col_indexer] = value instead\n",
      "\n",
      "See the the caveats in the documentation: http://pandas.pydata.org/pandas-docs/stable/indexing.html#indexing-view-versus-copy\n",
      "  self[name] = value\n"
     ]
    }
   ],
   "source": [
    "#subtracted 4 hours from the created_at time to make sure it was aligned with eastern time. \n",
    "#It is a Timestamp object, not a strftime converted string.\n",
    "\n",
    "cleanDF.created_at = map(lambda x: x - timedelta(hours=4), cleanDF.created_at)\n",
    "print 'Done here.'"
   ]
  },
  {
   "cell_type": "code",
   "execution_count": 39,
   "metadata": {
    "collapsed": false
   },
   "outputs": [
    {
     "data": {
      "text/html": [
       "<div>\n",
       "<table border=\"1\" class=\"dataframe\">\n",
       "  <thead>\n",
       "    <tr style=\"text-align: right;\">\n",
       "      <th></th>\n",
       "      <th>created_at</th>\n",
       "      <th>text</th>\n",
       "      <th>hashtag</th>\n",
       "      <th>user</th>\n",
       "      <th>geo</th>\n",
       "      <th>source</th>\n",
       "    </tr>\n",
       "    <tr>\n",
       "      <th>created_at</th>\n",
       "      <th></th>\n",
       "      <th></th>\n",
       "      <th></th>\n",
       "      <th></th>\n",
       "      <th></th>\n",
       "      <th></th>\n",
       "    </tr>\n",
       "  </thead>\n",
       "  <tbody>\n",
       "    <tr>\n",
       "      <th>2015-08-13 14:10:06-04:00</th>\n",
       "      <td>2015-08-13 14:10:06</td>\n",
       "      <td>$50 on U8.5 Cubs game @ 2\\n\\n@nickgiglioo</td>\n",
       "      <td>None</td>\n",
       "      <td>PPBets365</td>\n",
       "      <td>None</td>\n",
       "      <td>Twitter for iPhone</td>\n",
       "    </tr>\n",
       "    <tr>\n",
       "      <th>2015-08-13 14:10:07-04:00</th>\n",
       "      <td>2015-08-13 14:10:07</td>\n",
       "      <td>If you catch a home run ball and throw it back...</td>\n",
       "      <td>[Cubs, baseball]</td>\n",
       "      <td>keith_saunders</td>\n",
       "      <td>None</td>\n",
       "      <td>Echofon</td>\n",
       "    </tr>\n",
       "    <tr>\n",
       "      <th>2015-08-13 14:10:09-04:00</th>\n",
       "      <td>2015-08-13 14:10:09</td>\n",
       "      <td>Protect their cubs, that's what mother bears d...</td>\n",
       "      <td>None</td>\n",
       "      <td>lthearted1</td>\n",
       "      <td>None</td>\n",
       "      <td>Twitter Web Client</td>\n",
       "    </tr>\n",
       "    <tr>\n",
       "      <th>2015-08-13 14:10:14-04:00</th>\n",
       "      <td>2015-08-13 14:10:14</td>\n",
       "      <td>@MLBrendan @alarre1 @JeffPassan Cubs are a nat...</td>\n",
       "      <td>None</td>\n",
       "      <td>jw_mike</td>\n",
       "      <td>None</td>\n",
       "      <td>Twitter for iPhone</td>\n",
       "    </tr>\n",
       "    <tr>\n",
       "      <th>2015-08-13 14:10:14-04:00</th>\n",
       "      <td>2015-08-13 14:10:14</td>\n",
       "      <td>RT @stoolpresidente: LOL. @BarstoolBigCat @NES...</td>\n",
       "      <td>None</td>\n",
       "      <td>patowens77</td>\n",
       "      <td>None</td>\n",
       "      <td>Twitter for iPhone</td>\n",
       "    </tr>\n",
       "  </tbody>\n",
       "</table>\n",
       "</div>"
      ],
      "text/plain": [
       "                                   created_at  \\\n",
       "created_at                                      \n",
       "2015-08-13 14:10:06-04:00 2015-08-13 14:10:06   \n",
       "2015-08-13 14:10:07-04:00 2015-08-13 14:10:07   \n",
       "2015-08-13 14:10:09-04:00 2015-08-13 14:10:09   \n",
       "2015-08-13 14:10:14-04:00 2015-08-13 14:10:14   \n",
       "2015-08-13 14:10:14-04:00 2015-08-13 14:10:14   \n",
       "\n",
       "                                                                        text  \\\n",
       "created_at                                                                     \n",
       "2015-08-13 14:10:06-04:00          $50 on U8.5 Cubs game @ 2\\n\\n@nickgiglioo   \n",
       "2015-08-13 14:10:07-04:00  If you catch a home run ball and throw it back...   \n",
       "2015-08-13 14:10:09-04:00  Protect their cubs, that's what mother bears d...   \n",
       "2015-08-13 14:10:14-04:00  @MLBrendan @alarre1 @JeffPassan Cubs are a nat...   \n",
       "2015-08-13 14:10:14-04:00  RT @stoolpresidente: LOL. @BarstoolBigCat @NES...   \n",
       "\n",
       "                                    hashtag            user   geo  \\\n",
       "created_at                                                          \n",
       "2015-08-13 14:10:06-04:00              None       PPBets365  None   \n",
       "2015-08-13 14:10:07-04:00  [Cubs, baseball]  keith_saunders  None   \n",
       "2015-08-13 14:10:09-04:00              None      lthearted1  None   \n",
       "2015-08-13 14:10:14-04:00              None         jw_mike  None   \n",
       "2015-08-13 14:10:14-04:00              None      patowens77  None   \n",
       "\n",
       "                                       source  \n",
       "created_at                                     \n",
       "2015-08-13 14:10:06-04:00  Twitter for iPhone  \n",
       "2015-08-13 14:10:07-04:00             Echofon  \n",
       "2015-08-13 14:10:09-04:00  Twitter Web Client  \n",
       "2015-08-13 14:10:14-04:00  Twitter for iPhone  \n",
       "2015-08-13 14:10:14-04:00  Twitter for iPhone  "
      ]
     },
     "execution_count": 39,
     "metadata": {},
     "output_type": "execute_result"
    }
   ],
   "source": [
    "cleanDF.head()"
   ]
  },
  {
   "cell_type": "code",
   "execution_count": 66,
   "metadata": {
    "collapsed": false
   },
   "outputs": [
    {
     "name": "stdout",
     "output_type": "stream",
     "text": [
      "Done pickling out dataframe.\n"
     ]
    }
   ],
   "source": [
    "with open('cubtweetsDF.pkl','w') as pkl:\n",
    "    pickle.dump(cleanDF, pkl)\n",
    "print 'Done pickling out dataframe.'"
   ]
  },
  {
   "cell_type": "code",
   "execution_count": 40,
   "metadata": {
    "collapsed": true
   },
   "outputs": [],
   "source": [
    "letstest = cleanDF.copy(deep=True)"
   ]
  },
  {
   "cell_type": "code",
   "execution_count": 52,
   "metadata": {
    "collapsed": false
   },
   "outputs": [],
   "source": [
    "#trying just textblob.sentiment.polarity and running it on all of the text column\n",
    "\n",
    "doesthiswork = letstest['text'].map(lambda x: TextBlob(x).sentiment.polarity)"
   ]
  },
  {
   "cell_type": "code",
   "execution_count": 57,
   "metadata": {
    "collapsed": false
   },
   "outputs": [],
   "source": [
    "#resample by minute intervals/bins and find the mean polarity of all the tweets in that interval/bin\n",
    "doesthiswork2 = doesthiswork.resample('1t', how='mean')"
   ]
  },
  {
   "cell_type": "code",
   "execution_count": 59,
   "metadata": {
    "collapsed": false
   },
   "outputs": [],
   "source": [
    "#making the index nice and pretty for plotting purposes\n",
    "doesthiswork2.index = map(lambda x:x.strftime('%I:%M %p'), doesthiswork2.index)"
   ]
  },
  {
   "cell_type": "code",
   "execution_count": 62,
   "metadata": {
    "collapsed": false
   },
   "outputs": [
    {
     "data": {
      "text/plain": [
       "<matplotlib.axes._subplots.AxesSubplot at 0x11501b250>"
      ]
     },
     "execution_count": 62,
     "metadata": {},
     "output_type": "execute_result"
    },
    {
     "data": {
      "image/png": "[encoded data removed]",
      "text/plain": [
       "<matplotlib.figure.Figure at 0x11501bd90>"
      ]
     },
     "metadata": {},
     "output_type": "display_data"
    }
   ],
   "source": [
    "fig = plt.figure(figsize=(14,5))\n",
    "ax = fig.add_subplot(1, 1, 1)\n",
    "doesthiswork2.plot(kind='area', stacked=False, color='royalblue', alpha=0.5)"
   ]
  },
  {
   "cell_type": "code",
   "execution_count": null,
   "metadata": {
    "collapsed": true
   },
   "outputs": [],
   "source": []
  }
 ],
 "metadata": {
  "kernelspec": {
   "display_name": "Python 2",
   "language": "python",
   "name": "python2"
  },
  "language_info": {
   "codemirror_mode": {
    "name": "ipython",
    "version": 2
   },
   "file_extension": ".py",
   "mimetype": "text/x-python",
   "name": "python",
   "nbconvert_exporter": "python",
   "pygments_lexer": "ipython2",
   "version": "2.7.10"
  }
 },
 "nbformat": 4,
 "nbformat_minor": 0
}
